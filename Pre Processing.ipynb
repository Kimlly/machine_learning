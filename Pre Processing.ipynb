{
 "cells": [
  {
   "cell_type": "code",
   "execution_count": null,
   "id": "dd8377c2",
   "metadata": {},
   "outputs": [],
   "source": [
    "# Y Kimly\n",
    "# ITE G8 A\n",
    "# Animal Classification"
   ]
  },
  {
   "cell_type": "code",
   "execution_count": 1,
   "id": "e2be7d95",
   "metadata": {},
   "outputs": [],
   "source": [
    "import numpy as np    #numpy library to work with array operating\n",
    "import cv2            #cv2 is to convert image into array \n",
    "import os             #os is to specify the file location of image\n",
    "import random\n",
    "import matplotlib.pyplot as plt    # the library is to visualizing the data \n",
    "import pickle                       # to save data in the computer"
   ]
  },
  {
   "cell_type": "code",
   "execution_count": 7,
   "id": "839fb559",
   "metadata": {},
   "outputs": [],
   "source": [
    "DIRECTORY = r'C:\\Users\\jingl\\kimly\\machine_learning\\archive\\dataset\\training_set'    # file location\n",
    "CATEGORIES = ['cats','dogs']                                      # category of dataset"
   ]
  },
  {
   "cell_type": "code",
   "execution_count": 8,
   "id": "22d3e016",
   "metadata": {},
   "outputs": [
    {
     "name": "stdout",
     "output_type": "stream",
     "text": [
      "Folder does not exist:  C:\\Users\\jingl\\kimly\\machine_learning\\archive\\dataset\\training_set\\dogs\n"
     ]
    }
   ],
   "source": [
    "IMG_SIZE = 100   \n",
    "\n",
    "data=[]\n",
    "# convert every image  into number and put it in list\n",
    "for category in CATEGORIES:\n",
    "    folder=os.path.join(DIRECTORY,category)\n",
    "    if os.path.exists(folder):\n",
    "        label = CATEGORIES.index(category)\n",
    "        for img in os.listdir(folder):                  # loop image in the folder one by one \n",
    "            img_path = os.path.join(folder, img)        # image location\n",
    "            img_arr = cv2.imread(img_path)              # read image\n",
    "            img_arr = cv2.resize(img_arr,(IMG_SIZE,IMG_SIZE))   # resize image  \n",
    "            data.append([img_arr,label])                # a list with image to be define the label if it's a cat or dog\n",
    "else:\n",
    "    print(\"Folder does not exist: \", folder)"
   ]
  },
  {
   "cell_type": "code",
   "execution_count": 9,
   "id": "8269ee03",
   "metadata": {},
   "outputs": [
    {
     "data": {
      "text/plain": [
       "312"
      ]
     },
     "execution_count": 9,
     "metadata": {},
     "output_type": "execute_result"
    }
   ],
   "source": [
    "len(data)      # check the data length"
   ]
  },
  {
   "cell_type": "code",
   "execution_count": 10,
   "id": "8f4a2d92",
   "metadata": {},
   "outputs": [],
   "source": [
    "random.shuffle(data)      # shuffle the data to let cat and dog image mix together so that the model will learn it through all of them from the start"
   ]
  },
  {
   "cell_type": "code",
   "execution_count": 11,
   "id": "24d30b9b",
   "metadata": {},
   "outputs": [],
   "source": [
    "x = []                    # x is for the feature of the image\n",
    "y = []                    # y is for the label of that image \n",
    "\n",
    "for features,labels in data:\n",
    "    x.append(features)           \n",
    "    y.append(labels)"
   ]
  },
  {
   "cell_type": "code",
   "execution_count": 12,
   "id": "f1e60e0e",
   "metadata": {},
   "outputs": [],
   "source": [
    "x = np.array(x)         # convert x list into array\n",
    "y = np.array(y)         # convert y list into array"
   ]
  },
  {
   "cell_type": "code",
   "execution_count": 14,
   "id": "a05fddc3",
   "metadata": {},
   "outputs": [],
   "source": [
    "pickle.dump(x,open('x.pkl','wb'))      # save variable in computer\n",
    "pickle.dump(y,open('y.pkl','wb'))     # save variable in computer"
   ]
  },
  {
   "cell_type": "code",
   "execution_count": null,
   "id": "c5ce5ba4",
   "metadata": {},
   "outputs": [],
   "source": []
  }
 ],
 "metadata": {
  "kernelspec": {
   "display_name": "Python 3 (ipykernel)",
   "language": "python",
   "name": "python3"
  },
  "language_info": {
   "codemirror_mode": {
    "name": "ipython",
    "version": 3
   },
   "file_extension": ".py",
   "mimetype": "text/x-python",
   "name": "python",
   "nbconvert_exporter": "python",
   "pygments_lexer": "ipython3",
   "version": "3.9.12"
  }
 },
 "nbformat": 4,
 "nbformat_minor": 5
}
