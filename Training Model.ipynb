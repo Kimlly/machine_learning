{
 "cells": [
  {
   "cell_type": "code",
   "execution_count": 1,
   "id": "f22f76ed",
   "metadata": {},
   "outputs": [],
   "source": [
    "# Y Kimly\n",
    "# ITE G8 A\n",
    "# Animal Classification"
   ]
  },
  {
   "cell_type": "code",
   "execution_count": 2,
   "id": "712310e6",
   "metadata": {},
   "outputs": [],
   "source": [
    "import pickle    # import the variable to use "
   ]
  },
  {
   "cell_type": "code",
   "execution_count": 3,
   "id": "f96a011f",
   "metadata": {},
   "outputs": [],
   "source": [
    "x = pickle.load(open('x.pkl','rb'))    # open to read\n",
    "y = pickle.load(open('y.pkl','rb'))    # open to read "
   ]
  },
  {
   "cell_type": "code",
   "execution_count": 4,
   "id": "7d76e6eb",
   "metadata": {},
   "outputs": [],
   "source": [
    "x = x/255        # convert data value to between 0 and 1"
   ]
  },
  {
   "cell_type": "code",
   "execution_count": 5,
   "id": "cc91ed78",
   "metadata": {},
   "outputs": [
    {
     "data": {
      "text/plain": [
       "(312, 100, 100, 3)"
      ]
     },
     "execution_count": 5,
     "metadata": {},
     "output_type": "execute_result"
    }
   ],
   "source": [
    "x.shape          # check the view of dataset  8000 image weight and height 100*100 3 channel of RGB"
   ]
  },
  {
   "cell_type": "code",
   "execution_count": 6,
   "id": "ea2f0699",
   "metadata": {},
   "outputs": [],
   "source": [
    "from keras.models import Sequential      # keras is used to make the implementation of neural networks easy \n",
    "from keras.layers import Conv2D, MaxPooling2D, Flatten, Dense"
   ]
  },
  {
   "cell_type": "code",
   "execution_count": 7,
   "id": "202f17b3",
   "metadata": {},
   "outputs": [],
   "source": [
    "model = Sequential()   # Sequential model is appropriate for a plain stack of layers where each layer has exactly one input tensor and one output tensor.\n",
    "\n",
    "model.add(Conv2D(64,(3,3), activation = 'relu'))  # feature detector with 64 convolution layer and 3*3 matric , activation function \"relu\"\n",
    "model.add(MaxPooling2D((2,2))) # 2*2 matric  Activation function decides whether a neuron should be activated or not by calculating the weighted sum and further adding bias to it\n",
    "\n",
    "model.add(Conv2D(64,(3,3), activation = 'relu'))\n",
    "model.add(MaxPooling2D((2,2)))\n",
    "\n",
    "model.add(Flatten())                    # flatten layer is to set data into array with a single one dimensional metric\n",
    "\n",
    "model.add(Dense(128, input_shape = x.shape[1:],activation = 'relu')) #Dense is the neural network layer with 128 nueron in the shape of size from array index 1 in the shape array above\n",
    "\n",
    "model.add(Dense(2,activation = 'softmax')) #output with 2 neuron of cat and dog / activation function softmax"
   ]
  },
  {
   "cell_type": "code",
   "execution_count": 8,
   "id": "3d86a0bb",
   "metadata": {},
   "outputs": [],
   "source": [
    "model.compile(optimizer ='adam',loss ='sparse_categorical_crossentropy',metrics = ['accuracy'])\n",
    "\n",
    "# loss function and optimizer  "
   ]
  },
  {
   "cell_type": "code",
   "execution_count": 9,
   "id": "019cf241",
   "metadata": {},
   "outputs": [
    {
     "name": "stdout",
     "output_type": "stream",
     "text": [
      "Epoch 1/5\n",
      "9/9 [==============================] - 5s 418ms/step - loss: 1.4762 - accuracy: 0.4821 - val_loss: 0.6978 - val_accuracy: 0.4062\n",
      "Epoch 2/5\n",
      "9/9 [==============================] - 2s 189ms/step - loss: 0.6924 - accuracy: 0.5036 - val_loss: 0.7006 - val_accuracy: 0.4062\n",
      "Epoch 3/5\n",
      "9/9 [==============================] - 1s 151ms/step - loss: 0.6835 - accuracy: 0.5893 - val_loss: 0.7519 - val_accuracy: 0.4375\n",
      "Epoch 4/5\n",
      "9/9 [==============================] - 1s 146ms/step - loss: 0.6247 - accuracy: 0.6286 - val_loss: 0.7023 - val_accuracy: 0.5938\n",
      "Epoch 5/5\n",
      "9/9 [==============================] - 1s 153ms/step - loss: 0.5601 - accuracy: 0.7571 - val_loss: 0.8061 - val_accuracy: 0.5000\n"
     ]
    }
   ],
   "source": [
    "history = model.fit(x,y,epochs = 5, validation_split = 0.1, )\n",
    "#fit our model with the dataset\n",
    "# validation_split is how much we keep our dataset for testing to validtae the model\n",
    "# epoch is one complete pass of the training dataset thorugh the algorithm"
   ]
  },
  {
   "cell_type": "code",
   "execution_count": null,
   "id": "f456ec53",
   "metadata": {},
   "outputs": [],
   "source": []
  }
 ],
 "metadata": {
  "kernelspec": {
   "display_name": "Python 3 (ipykernel)",
   "language": "python",
   "name": "python3"
  },
  "language_info": {
   "codemirror_mode": {
    "name": "ipython",
    "version": 3
   },
   "file_extension": ".py",
   "mimetype": "text/x-python",
   "name": "python",
   "nbconvert_exporter": "python",
   "pygments_lexer": "ipython3",
   "version": "3.9.12"
  }
 },
 "nbformat": 4,
 "nbformat_minor": 5
}
