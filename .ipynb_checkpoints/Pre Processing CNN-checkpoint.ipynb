{
 "cells": [
  {
   "cell_type": "markdown",
   "id": "e2cc49e8",
   "metadata": {},
   "source": [
    "#Animal Classification with CNN\n",
    "\n",
    "**Image classification** is a fascinating topic in computer vision and machine learning. It is the task of assigning a label to an image based on its content. For example, given an image of a cat, the image classifier should output \"cat\" as the label. Image classification has many applications, such as animal recognition, face recognition, medical diagnosis, self-driving cars, and more.\n",
    "\n",
    "There are many ways to perform image classification, but one of the most popular and effective methods is using **Deep Neural Networks**. Deep neural networks are composed of layers of artificial neurons that can learn complex patterns from data. By feeding images as input to a deep neural network, the network can learn to extract features and recognize objects in the images.\n",
    "One type of deep neural network that is especially suited for image classification is called a **convolutional neural network (CNN)**. A **CNN** consists of convolutional layers that apply filters to the input image, creating feature maps that capture the presence of edges, shapes, colors, and textures. A CNN also has pooling layers that reduce the size of the feature maps and increase the efficiency of the network. Finally, a CNN has fully connected layers that perform the final classification based on the features learned by the convolutional layers.\n"
   ]
  },
  {
   "cell_type": "code",
   "execution_count": null,
   "id": "dd8377c2",
   "metadata": {},
   "outputs": [],
   "source": [
    "# Y Kimly\n",
    "# ITE G8 A\n",
    "# Animal Classification"
   ]
  },
  {
   "cell_type": "markdown",
   "id": "62b68d39",
   "metadata": {},
   "source": [
    "#Image Pre-processing\n",
    "\n",
    "The aim of this process is to improve the image data (features) by suppressing unwanted distortions and enhancement of some important image features so that the computer vision models can benefit from this improved data to work on. Steps for image pre-processing includes Reading image, Resizing image, and Data Augmentation (Gray scaling of image, Reflection, Gaussian Blurring, Histogram, Equalization, Rotation, and Translation)."
   ]
  },
  {
   "cell_type": "markdown",
   "id": "0057f3ea",
   "metadata": {},
   "source": [
    "- The algorithm is writing with python programming language in Jupyter Notebook.\n",
    "- Import the important library in term of necessary usage.\n"
   ]
  },
  {
   "cell_type": "code",
   "execution_count": 1,
   "id": "e2be7d95",
   "metadata": {},
   "outputs": [],
   "source": [
    "import numpy as np    #numpy library to work with array operating\n",
    "import cv2            #cv2 is to convert image into array \n",
    "import os             #os is to specify the file location of image\n",
    "import random\n",
    "import matplotlib.pyplot as plt    # the library is to visualizing the data \n",
    "import pickle                       # to save data in the computer"
   ]
  },
  {
   "cell_type": "markdown",
   "id": "b7211bee",
   "metadata": {},
   "source": [
    "- Showing the location of the dataset file in the computing machine."
   ]
  },
  {
   "cell_type": "code",
   "execution_count": 7,
   "id": "839fb559",
   "metadata": {},
   "outputs": [],
   "source": [
    "DIRECTORY = r'C:\\Users\\jingl\\kimly\\machine_learning\\archive\\dataset\\training_set'    # file location\n",
    "CATEGORIES = ['cats','dogs']                                      # category of dataset"
   ]
  },
  {
   "cell_type": "markdown",
   "id": "982380f7",
   "metadata": {},
   "source": [
    "- Since the downloaded dataset is in a random size, it’s more convenience to resize all the data in the same size and assign each image their own label."
   ]
  },
  {
   "cell_type": "code",
   "execution_count": 8,
   "id": "22d3e016",
   "metadata": {},
   "outputs": [
    {
     "name": "stdout",
     "output_type": "stream",
     "text": [
      "Folder does not exist:  C:\\Users\\jingl\\kimly\\machine_learning\\archive\\dataset\\training_set\\dogs\n"
     ]
    }
   ],
   "source": [
    "IMG_SIZE = 100   \n",
    "\n",
    "data=[]\n",
    "# convert every image  into number and put it in list\n",
    "for category in CATEGORIES:\n",
    "    folder=os.path.join(DIRECTORY,category)\n",
    "    if os.path.exists(folder):\n",
    "        label = CATEGORIES.index(category)\n",
    "        for img in os.listdir(folder):                  # loop image in the folder one by one \n",
    "            img_path = os.path.join(folder, img)        # image location\n",
    "            img_arr = cv2.imread(img_path)              # read image\n",
    "            img_arr = cv2.resize(img_arr,(IMG_SIZE,IMG_SIZE))   # resize image  \n",
    "            data.append([img_arr,label])                # a list with image to be define the label if it's a cat or dog\n",
    "else:\n",
    "    print(\"Folder does not exist: \", folder)"
   ]
  },
  {
   "cell_type": "markdown",
   "id": "7c488918",
   "metadata": {},
   "source": [
    "- Check the length of the data by using len() function "
   ]
  },
  {
   "cell_type": "code",
   "execution_count": 9,
   "id": "8269ee03",
   "metadata": {},
   "outputs": [
    {
     "data": {
      "text/plain": [
       "312"
      ]
     },
     "execution_count": 9,
     "metadata": {},
     "output_type": "execute_result"
    }
   ],
   "source": [
    "len(data)      # check the data length"
   ]
  },
  {
   "cell_type": "markdown",
   "id": "f2075c09",
   "metadata": {},
   "source": [
    "- The dataset is in 2 different folders so after combined it into one list it’s should be getting shuffle to let cat and dog image mix together so that the model will learn it through all of them from the start.\n"
   ]
  },
  {
   "cell_type": "code",
   "execution_count": 10,
   "id": "8f4a2d92",
   "metadata": {},
   "outputs": [],
   "source": [
    "random.shuffle(data)      # shuffle the data to let cat and dog image mix together so that the model will learn it through all of them from the start"
   ]
  },
  {
   "cell_type": "markdown",
   "id": "6929d342",
   "metadata": {},
   "source": [
    "- Use variable x and y as an features and label of the dataset convert it into array and store it in the computing machine"
   ]
  },
  {
   "cell_type": "code",
   "execution_count": 11,
   "id": "24d30b9b",
   "metadata": {},
   "outputs": [],
   "source": [
    "x = []                    # x is for the feature of the image\n",
    "y = []                    # y is for the label of that image \n",
    "\n",
    "for features,labels in data:\n",
    "    x.append(features)           \n",
    "    y.append(labels)"
   ]
  },
  {
   "cell_type": "code",
   "execution_count": 12,
   "id": "f1e60e0e",
   "metadata": {},
   "outputs": [],
   "source": [
    "x = np.array(x)         # convert x list into array\n",
    "y = np.array(y)         # convert y list into array"
   ]
  },
  {
   "cell_type": "code",
   "execution_count": 14,
   "id": "a05fddc3",
   "metadata": {},
   "outputs": [],
   "source": [
    "pickle.dump(x,open('x.pkl','wb'))      # save variable in computer\n",
    "pickle.dump(y,open('y.pkl','wb'))     # save variable in computer"
   ]
  }
 ],
 "metadata": {
  "kernelspec": {
   "display_name": "Python 3 (ipykernel)",
   "language": "python",
   "name": "python3"
  },
  "language_info": {
   "codemirror_mode": {
    "name": "ipython",
    "version": 3
   },
   "file_extension": ".py",
   "mimetype": "text/x-python",
   "name": "python",
   "nbconvert_exporter": "python",
   "pygments_lexer": "ipython3",
   "version": "3.9.12"
  }
 },
 "nbformat": 4,
 "nbformat_minor": 5
}
